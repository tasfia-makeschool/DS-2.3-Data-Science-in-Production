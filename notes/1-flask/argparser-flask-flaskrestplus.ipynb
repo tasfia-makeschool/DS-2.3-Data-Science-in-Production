{
 "cells": [
  {
   "cell_type": "markdown",
   "metadata": {},
   "source": [
    "# Argparser, Flask, RESTplus"
   ]
  },
  {
   "cell_type": "markdown",
   "metadata": {},
   "source": [
    "## Case Study: Tagging Influencers on Instagram"
   ]
  },
  {
   "cell_type": "markdown",
   "metadata": {},
   "source": [
    "### Text-based keyword extraction and categorization\n",
    "Task: Collect the 12 most recent captions of an influencer\n",
    "1. Preprocessing\n",
    "    - remove all hashtag, emojis, URLs, HTML, non-English words and numbers\n",
    "2. Keyword Extraction Algorithm in NLP\n",
    "    - LDA, TF-IDF, TextRank\n",
    "3. keyword-list = keyword extraction algorithms + top `n` words + top `m` hashtags\n",
    "4. Remove non-informative words from the keyword-list\n",
    "    - people's names, cities, adverbs, adjectives, colors, time, etc.\n",
    "5. Keyword to category mapping: Word2Vec (GloVe)"
   ]
  },
  {
   "cell_type": "markdown",
   "metadata": {},
   "source": [
    "Problem: What if the influencer didn't write a caption for their image? \n",
    "\n",
    "### Image-based keyword extraction and categorization\n",
    "- Use Google's Vision API to get the top `n` labels per image "
   ]
  },
  {
   "cell_type": "markdown",
   "metadata": {},
   "source": [
    "### Integration of the tagging API with the MuseFind Platform\n",
    "- The big file, `glove.840B.300d.txt` is stored in **AWS S3**\n",
    "- The tagging algorithm GloVe read by Boto and `smart_open`\n",
    "    - [GloVe](https://nlp.stanford.edu/projects/glove/)\n",
    "        - unsupervised learning algorithm for obtaining vector representations for words (Stanford)\n",
    "        - model for distributed word representation\n",
    "        - coined from Global Vectors\n",
    "    - [Boto](https://github.com/boto/boto3)\n",
    "        - AWS SDK for Python, allows Python developers to write software that makes use of services like Amazon S3 and Amazon EC2\n",
    "    - [`smart_open`](https://github.com/RaRe-Technologies/smart_open)\n",
    "        - Python 3 library for **efficient streaming of very large files** from/to storages such as S3, GCS, Azure Blob Storage, HDFS, WebHDFS, HTTP, HTTPS, SFTP, or local filesystem\n",
    "        - supports transparent, on-the-fly (de-)compression for a variety of different formats\n",
    "- The algorithm would be live (the interface is the Flask RESTful API) on EC2 and deployed by Docker\n",
    "- The response of the algorithm is returned to the Platform API in JSON format\n",
    "- Response is saved in a database managed by the Platform API \n",
    "\n",
    "<img width=400 src=\"https://github.com/Make-School-Courses/DS-2.3-Data-Science-in-Production/raw/0c911026bff4ffb8926f997b5fac8e330365d290/Lessons/Images/MuseFind.png\">"
   ]
  },
  {
   "cell_type": "markdown",
   "metadata": {},
   "source": [
    "## Argparser\n",
    "https://www.youtube.com/watch?v=cdblJqEUDNo"
   ]
  },
  {
   "cell_type": "markdown",
   "metadata": {},
   "source": [
    "### Argparser with Flask"
   ]
  },
  {
   "cell_type": "code",
   "execution_count": null,
   "metadata": {},
   "outputs": [],
   "source": [
    "from flask import Flask, request, jsonify\n",
    "from flask_restplus import Api, Resource, fields\n",
    "\n",
    "app = Flask(__name__)\n",
    "\n",
    "api = Api(app, version='1.0', title='Add API', description='argparse with flask demonstration')\n",
    "ns = api.namespace('add', description='Add two numbers')\n",
    "single_parser = api.parser()\n",
    "single_parser.add_argument('n', type=int, required=True, help= 'first number')\n",
    "single_parser.add_argument('m', type=int, required=True, help= 'second number')\n",
    "\n",
    "@ns.route(\"/\")\n",
    "class Addition(Resource):\n",
    "    @api.doc(parser=single_parser, description='Enter Two Integers')\n",
    "    def get(self):\n",
    "        args = single_parser.parse_args()\n",
    "        n1 = args.n\n",
    "        m1 = args.m\n",
    "        r = get_sum(n1, m1)\n",
    "        return jsonify({'add': r})\n",
    "\n",
    "if __name__ == \"__main__\":\n",
    "    app.run(host='0.0.0.0', port=3000)"
   ]
  }
 ],
 "metadata": {
  "kernelspec": {
   "display_name": "Python 3",
   "language": "python",
   "name": "python3"
  },
  "language_info": {
   "codemirror_mode": {
    "name": "ipython",
    "version": 3
   },
   "file_extension": ".py",
   "mimetype": "text/x-python",
   "name": "python",
   "nbconvert_exporter": "python",
   "pygments_lexer": "ipython3",
   "version": "3.7.7"
  }
 },
 "nbformat": 4,
 "nbformat_minor": 4
}
